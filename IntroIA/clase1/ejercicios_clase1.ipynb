{
 "cells": [
  {
   "cell_type": "markdown",
   "id": "0ca1ea3c-175e-4263-98f3-f9f7892f7f4d",
   "metadata": {},
   "source": [
    "# Ejercicios clase 1"
   ]
  },
  {
   "cell_type": "markdown",
   "id": "6be5b57a-b34d-4d5f-9282-239818de696c",
   "metadata": {},
   "source": [
    "Importando librerias"
   ]
  },
  {
   "cell_type": "code",
   "execution_count": 30,
   "id": "71a805e3-2bae-4027-b679-1b9290957ada",
   "metadata": {},
   "outputs": [],
   "source": [
    "import numpy as np\n",
    "from unittest import TestCase\n",
    "import math"
   ]
  },
  {
   "cell_type": "markdown",
   "id": "2f7a3a9d-83e4-47d0-a911-fea36e7d2f09",
   "metadata": {},
   "source": [
    "Una matriz de prueba"
   ]
  },
  {
   "cell_type": "code",
   "execution_count": 31,
   "id": "98d6549a-0464-4757-8837-8f0af5a4bc79",
   "metadata": {},
   "outputs": [
    {
     "name": "stdout",
     "output_type": "stream",
     "text": [
      "[[  1.   0.   3.]\n",
      " [ -1.  -5.   7.]\n",
      " [  8. -10.   2.]]\n"
     ]
    }
   ],
   "source": [
    "matriz = np.array([[1,0,3],[-1,-5,7],[8,-10,2]], dtype=np.float64)\n",
    "print(matriz)"
   ]
  },
  {
   "cell_type": "markdown",
   "id": "014e951f-8000-47fa-9451-f9eceed4c56c",
   "metadata": {},
   "source": [
    "## Ejecicio #1: Operaciones Matriciales\n",
    "Dada una matriz en formato numpy array, donde cada fila de la matriz representa un vector matemático: \n",
    "Computar las normas l0, l1, l2, l-infinito. _Todas las operaciones debe ser vectorizadas._\n",
    "\n",
    "Ref: [medium]https://montjoile.medium.com/l0-norm-l1-norm-l2-norm-l-infinity-norm-7a7d18a4f40c"
   ]
  },
  {
   "cell_type": "code",
   "execution_count": 40,
   "id": "d76d434e-3aef-461c-8a90-806b560c923e",
   "metadata": {
    "tags": []
   },
   "outputs": [],
   "source": [
    "def vector_norm_l0(m):\n",
    "    a = m != 0\n",
    "    return np.sum(a, axis=1) # Cuenta los elementos distintos de cero (axis = 1, suma por filas)\n",
    "\n",
    "def vector_norm_l1(m):\n",
    "    a = np.abs(m)\n",
    "    return np.sum(a, axis=1)\n",
    "\n",
    "def vector_norm_l2(m):\n",
    "    a = np.abs(m)**2\n",
    "    return np.sqrt(np.sum(a, axis=1)) \n",
    "\n",
    "def vector_norm_inf(m):\n",
    "    a = np.abs(m)\n",
    "    return np.max(a, axis=1)"
   ]
  },
  {
   "cell_type": "code",
   "execution_count": 45,
   "id": "17976e78-ee0d-4b55-adce-4bb6f2844e6b",
   "metadata": {
    "tags": []
   },
   "outputs": [
    {
     "name": "stdout",
     "output_type": "stream",
     "text": [
      "Norma l0: [2 3 3]\n",
      "Norma l1: [ 4. 13. 20.]\n",
      "Norma l2: [ 3.16227766  8.66025404 12.9614814 ]\n",
      "Norma lInf: [ 3.  7. 10.]\n"
     ]
    }
   ],
   "source": [
    "norm0 = vector_norm_l0(matriz)\n",
    "print('Norma l0: {}'.format(norm0))\n",
    "\n",
    "norm1 = vector_norm_l1(matriz)\n",
    "print('Norma l1: {}'.format(norm1))\n",
    "\n",
    "norm2 = vector_norm_l2(matriz)\n",
    "print('Norma l2: {}'.format(norm2))\n",
    "\n",
    "normInf = vector_norm_inf(matriz)\n",
    "print('Norma lInf: {}'.format(normInf))"
   ]
  },
  {
   "cell_type": "markdown",
   "id": "e3d3b153-41bd-4b8d-815a-5233d60324ba",
   "metadata": {
    "tags": []
   },
   "source": [
    "Definiendo test:"
   ]
  },
  {
   "cell_type": "code",
   "execution_count": 42,
   "id": "539c45df-ec85-4592-a0a5-81ae4a14f7e1",
   "metadata": {
    "tags": []
   },
   "outputs": [],
   "source": [
    "class NormTestCase(TestCase):\n",
    "\n",
    "    def test_norm_l0(self):\n",
    "        a = np.array([[1, 2, 3, 4], [5, 6, 7, 8]])\n",
    "        expected = np.array([4, 4])\n",
    "        result = vector_norm_l0(a)\n",
    "        np.testing.assert_equal(expected, result)\n",
    "\n",
    "        a = np.array([[1, 0, 0, 4], [5, 6, 0, 8]])\n",
    "        expected = np.array([2, 3])\n",
    "        result = vector_norm_l0(a)\n",
    "        np.testing.assert_equal(expected, result)\n",
    "\n",
    "    def test_norm_l1(self):\n",
    "        a = np.array([[1, 2, 3, 4], [5, 6, 7, 8]])\n",
    "        expected = np.array([10, 26])\n",
    "        result = vector_norm_l1(a)\n",
    "        np.testing.assert_equal(expected, result)\n",
    "\n",
    "        a = np.array([[-1, -2, -3, -4], [-5, -6, -7, -8]])\n",
    "        expected = np.array([10, 26])\n",
    "        result = vector_norm_l1(a)\n",
    "        np.testing.assert_equal(expected, result)\n",
    "\n",
    "    def test_norm_l2(self):\n",
    "        a = np.array([[1, 2], [3, 4]])\n",
    "        expected = np.array([math.sqrt(5), math.sqrt(25)])\n",
    "        result = vector_norm_l2(a)\n",
    "        np.testing.assert_allclose(expected, result)\n",
    "\n",
    "    def test_norm_inf(self):\n",
    "        a = np.array([[1, 2, 3, 4], [5, 6, 7, 8]])\n",
    "        expected = np.array([4, 8])\n",
    "        result = vector_norm_inf(a)\n",
    "        np.testing.assert_equal(expected, result)"
   ]
  },
  {
   "cell_type": "markdown",
   "id": "80f14f82-a422-46d1-a604-8cbcabf62abf",
   "metadata": {
    "tags": []
   },
   "source": [
    "Corriendo test"
   ]
  },
  {
   "cell_type": "code",
   "execution_count": 43,
   "id": "19f4471b-1a75-43a5-ac3a-ce0b7bbf11f0",
   "metadata": {
    "tags": []
   },
   "outputs": [],
   "source": [
    "test_obj = NormTestCase()\n",
    "\n",
    "test_obj.test_norm_l0()\n",
    "test_obj.test_norm_l1()\n",
    "test_obj.test_norm_l2()\n",
    "test_obj.test_norm_inf()"
   ]
  },
  {
   "cell_type": "markdown",
   "id": "a9b22b60-b3a8-46ca-b205-09e7e79e8fdd",
   "metadata": {},
   "source": [
    "## Ejecicio #2: Sorting \n",
    "Dada una matriz en formato numpy array, donde cada fila de la matriz representa un vector matemático, se requiere computar la norma l2 de cada vector. Una vez obtenida la norma, se debe ordenar las mísmas de mayor a menor. Finalmente, obtener la matriz original ordenada por fila según la norma l2. _Todas las operaciones debe ser vectorizadas._"
   ]
  },
  {
   "cell_type": "code",
   "execution_count": 71,
   "id": "78f07e52-9edc-4f7e-a562-c6eefac4bfb5",
   "metadata": {},
   "outputs": [],
   "source": [
    "def sorting_vectors_by_norm_l2 (m):\n",
    "    norm2 = vector_norm_l2(m)\n",
    "    ind = np.argsort(norm2)\n",
    "    return m[ind[::-1]]"
   ]
  },
  {
   "cell_type": "code",
   "execution_count": 72,
   "id": "b9c08b15-07d1-4bbe-a0e4-bb1d489bfc62",
   "metadata": {},
   "outputs": [
    {
     "name": "stdout",
     "output_type": "stream",
     "text": [
      "Matriz: [[  1.   0.   3.]\n",
      " [ -1.  -5.   7.]\n",
      " [  8. -10.   2.]]\n",
      "Sort l2: [[  8. -10.   2.]\n",
      " [ -1.  -5.   7.]\n",
      " [  1.   0.   3.]]\n"
     ]
    }
   ],
   "source": [
    "sort_l2 = sorting_vectors_by_norm_l2(matriz)\n",
    "\n",
    "print('Matriz: {}'.format(matriz))\n",
    "print('Sort l2: {}'.format(sort_l2))"
   ]
  },
  {
   "cell_type": "markdown",
   "id": "1853bd90-e74d-41e7-9289-d5ea89344cd6",
   "metadata": {},
   "source": [
    "Definiendo test:"
   ]
  },
  {
   "cell_type": "code",
   "execution_count": 73,
   "id": "920e2d4d-1330-4e7c-bb87-942c76e1c6ae",
   "metadata": {},
   "outputs": [],
   "source": [
    "class SortTestCase(TestCase):\n",
    "\n",
    "    def test_sorting_by_norm_l2(self):\n",
    "        a = np.array([[1, 2, 3, 4], [5, 6, 7, 8]])\n",
    "        sorted_a = sorting_vectors_by_norm_l2(a)\n",
    "        np.testing.assert_equal(np.array([[5, 6, 7, 8], [1, 2, 3, 4]]), sorted_a)\n",
    "\n",
    "        a = np.array([[1, 2, 3, 4], [10, 11, 12, 13], [5, 6, 7, 8]])\n",
    "        sorted_a = sorting_vectors_by_norm_l2(a)\n",
    "        np.testing.assert_equal(np.array([[10, 11, 12, 13], [5, 6, 7, 8], [1, 2, 3, 4]]), sorted_a)"
   ]
  },
  {
   "cell_type": "markdown",
   "id": "b5f7f3d1-2455-457b-a1cb-5bd8717abec8",
   "metadata": {
    "tags": []
   },
   "source": [
    "Corriendo test:"
   ]
  },
  {
   "cell_type": "code",
   "execution_count": 74,
   "id": "72ceed3a-b153-4347-828c-f97946577ad2",
   "metadata": {
    "tags": []
   },
   "outputs": [],
   "source": [
    "test_obj = SortTestCase()\n",
    "\n",
    "test_obj.test_sorting_by_norm_l2()"
   ]
  },
  {
   "cell_type": "markdown",
   "id": "1754b0bc-cc04-403c-b540-dcb5ee728eb3",
   "metadata": {},
   "source": [
    "## Ejecicio #3: Indexing\n",
    "El objetivo es construir un índice para identificadores de usuarios, es decir _id2idx_ e _idx2id_.\n",
    "Para ello crear una clase, donde el índice se genere en el constructor. Armar métodos _get_users_id_ y _get_users_idx_.\n",
    "\n",
    "* Identificadores de usuarios : users_id = [15, 12, 14, 10, 1, 2, 1]\n",
    "* Índice de usuarios : users_id = [0, 1, 2, 3, 4, 5, 4]\n",
    "\n",
    "```\n",
    "id2idx =  [-1     4     5    -1    -1    -1     -1    -1    -1    -1     3     -1      1    -1     2     0]\n",
    "          [ 0     1     2     3     4     5      6     7     8     9    10     11     12    13    14    15]\n",
    "\n",
    "id2idx[15] -> 0 ; id2idx[12] -> 1 ; id2idx[3] -> -1\n",
    "idx2id[0] -> 15 ; idx2id[4] -> 1\n",
    "```"
   ]
  },
  {
   "cell_type": "code",
   "execution_count": null,
   "id": "48e06be8-b78a-46e3-a842-a10b633ddff9",
   "metadata": {},
   "outputs": [],
   "source": [
    "class Indexer(object):\n",
    "    "
   ]
  }
 ],
 "metadata": {
  "kernelspec": {
   "display_name": "Python 3",
   "language": "python",
   "name": "python3"
  },
  "language_info": {
   "codemirror_mode": {
    "name": "ipython",
    "version": 3
   },
   "file_extension": ".py",
   "mimetype": "text/x-python",
   "name": "python",
   "nbconvert_exporter": "python",
   "pygments_lexer": "ipython3",
   "version": "3.8.5"
  }
 },
 "nbformat": 4,
 "nbformat_minor": 5
}
